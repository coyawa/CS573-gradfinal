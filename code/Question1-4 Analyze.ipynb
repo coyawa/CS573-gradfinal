{
 "cells": [
  {
   "cell_type": "code",
   "execution_count": 1,
   "metadata": {
    "collapsed": false
   },
   "outputs": [],
   "source": [
    "index1 = [\n",
    "[{\"question\":\"question1\",\"value\":\"right\",\"time\":40833},{\"question\":\"question2\",\"value\":\"right\",\"time\":36083},{\"question\":\"question3\",\"value\":\"4\",\"time\":118237},{\"question\":\"question4\",\"value\":\"right\",\"time\":85182},{\"question\":\"question5\",\"value\":\"right\",\"time\":55339},{\"question\":\"question6\",\"value\":\"1\",\"time\":44047}],\n",
    "[{\"question\":\"question1\",\"value\":\"right\",\"time\":104435},{\"question\":\"question2\",\"value\":\"right\",\"time\":40487},{\"question\":\"question3\",\"value\":\"2\",\"time\":107451},{\"question\":\"question4\",\"value\":\"right\",\"time\":88240},{\"question\":\"question5\",\"value\":\"right\",\"time\":65172},{\"question\":\"question6\",\"value\":\"1\",\"time\":46855}],\n",
    "[{\"question\":\"question1\",\"value\":\"1\",\"time\":4030},{\"question\":\"question2\",\"value\":\"right\",\"time\":2860},{\"question\":\"question3\",\"value\":\"2\",\"time\":4360},{\"question\":\"question4\",\"value\":\"2\",\"time\":5235},{\"question\":\"question5\",\"value\":\"2\",\"time\":3272},{\"question\":\"question6\",\"value\":\"right\",\"time\":3780}],\n",
    "[{\"question\":\"question1\",\"value\":\"right\",\"time\":25746},{\"question\":\"question2\",\"value\":\"4\",\"time\":67182},{\"question\":\"question3\",\"value\":\"4\",\"time\":33894},{\"question\":\"question4\",\"value\":\"right\",\"time\":32866},{\"question\":\"question5\",\"value\":\"right\",\"time\":70047},{\"question\":\"question6\",\"value\":\"4\",\"time\":19954}],\n",
    "[{\"question\":\"question1\",\"value\":\"right\",\"time\":2616},{\"question\":\"question2\",\"value\":\"right\",\"time\":2554},{\"question\":\"question3\",\"value\":\"right\",\"time\":35875},{\"question\":\"question4\",\"value\":\"right\",\"time\":42880},{\"question\":\"question5\",\"value\":\"right\",\"time\":20730},{\"question\":\"question6\",\"value\":\"1\",\"time\":5185}],\n",
    "[{\"question\":\"question1\",\"value\":\"4\",\"time\":12624},{\"question\":\"question2\",\"value\":\"4\",\"time\":92724},{\"question\":\"question3\",\"value\":\"right\",\"time\":111230},{\"question\":\"question4\",\"value\":\"4\",\"time\":48869},{\"question\":\"question5\",\"value\":\"right\",\"time\":25568},{\"question\":\"question6\",\"value\":\"4\",\"time\":40139}],\n",
    "[{\"question\":\"question1\",\"value\":\"right\",\"time\":77035},{\"question\":\"question2\",\"value\":\"right\",\"time\":111201},{\"question\":\"question3\",\"value\":\"right\",\"time\":142665},{\"question\":\"question4\",\"value\":\"right\",\"time\":50976},{\"question\":\"question5\",\"value\":\"right\",\"time\":94900},{\"question\":\"question6\",\"value\":\"right\",\"time\":75155}],\n",
    "[{\"question\":\"question1\",\"value\":\"right\",\"time\":20254},{\"question\":\"question2\",\"value\":\"right\",\"time\":73753},{\"question\":\"question3\",\"value\":\"right\",\"time\":93144},{\"question\":\"question4\",\"value\":\"right\",\"time\":34012},{\"question\":\"question5\",\"value\":\"4\",\"time\":28191},{\"question\":\"question6\",\"value\":\"4\",\"time\":65634}],\n",
    "[{\"question\":\"question1\",\"value\":\"right\",\"time\":12859},{\"question\":\"question2\",\"value\":\"right\",\"time\":36341},{\"question\":\"question3\",\"value\":\"right\",\"time\":53977},{\"question\":\"question4\",\"value\":\"right\",\"time\":16366},{\"question\":\"question5\",\"value\":\"2\",\"time\":29423},{\"question\":\"question6\",\"value\":\"1\",\"time\":23069}],\n",
    "[{\"question\":\"question1\",\"value\":\"right\",\"time\":23197},{\"question\":\"question2\",\"value\":\"right\",\"time\":118144},{\"question\":\"question3\",\"value\":\"right\",\"time\":310858},{\"question\":\"question4\",\"value\":\"right\",\"time\":46663},{\"question\":\"question5\",\"value\":\"right\",\"time\":70688},{\"question\":\"question6\",\"value\":\"1\",\"time\":43314}],\n",
    "[{\"question\":\"question1\",\"value\":\"right\",\"time\":95451},{\"question\":\"question2\",\"value\":\"right\",\"time\":141548},{\"question\":\"question3\",\"value\":\"right\",\"time\":242569},{\"question\":\"question4\",\"value\":\"right\",\"time\":113533},{\"question\":\"question5\",\"value\":\"right\",\"time\":86333},{\"question\":\"question6\",\"value\":\"1\",\"time\":180770}]\n",
    "]\n",
    "index2 =[\n",
    "[{\"question\":\"question1\",\"value\":\"right\",\"time\":24957},{\"question\":\"question2\",\"value\":\"right\",\"time\":120908},{\"question\":\"question3\",\"value\":\"2\",\"time\":175018},{\"question\":\"question4\",\"value\":\"2\",\"time\":86838},{\"question\":\"question5\",\"value\":\"4\",\"time\":14623},{\"question\":\"question6\",\"value\":\"1\",\"time\":64081}],\n",
    "[{\"question\":\"question1\",\"value\":\"1\",\"time\":2516},{\"question\":\"question2\",\"value\":\"right\",\"time\":3312},{\"question\":\"question3\",\"value\":\"right\",\"time\":2948},{\"question\":\"question4\",\"value\":\"1\",\"time\":1969},{\"question\":\"question5\",\"value\":\"2\",\"time\":1801},{\"question\":\"question6\",\"value\":\"1\",\"time\":3180}],\n",
    "[{\"question\":\"question1\",\"value\":\"right\",\"time\":53872},{\"question\":\"question2\",\"value\":\"right\",\"time\":69180},{\"question\":\"question3\",\"value\":\"right\",\"time\":102649},{\"question\":\"question4\",\"value\":\"1\",\"time\":38073},{\"question\":\"question5\",\"value\":\"right\",\"time\":43068},{\"question\":\"question6\",\"value\":\"1\",\"time\":33071}],\n",
    "[{\"question\":\"question1\",\"value\":\"right\",\"time\":34431},{\"question\":\"question2\",\"value\":\"right\",\"time\":38941},{\"question\":\"question3\",\"value\":\"right\",\"time\":158057},{\"question\":\"question4\",\"value\":\"right\",\"time\":35913},{\"question\":\"question5\",\"value\":\"right\",\"time\":37130},{\"question\":\"question6\",\"value\":\"right\",\"time\":35387}],\n",
    "[{\"question\":\"question1\",\"value\":\"right\",\"time\":49450},{\"question\":\"question2\",\"value\":\"right\",\"time\":68053},{\"question\":\"question3\",\"value\":\"4\",\"time\":40395},{\"question\":\"question4\",\"value\":\"right\",\"time\":38027},{\"question\":\"question5\",\"value\":\"right\",\"time\":63120},{\"question\":\"question6\",\"value\":\"4\",\"time\":23250}],\n",
    "[{\"question\":\"question1\",\"value\":\"right\",\"time\":14481},{\"question\":\"question2\",\"value\":\"right\",\"time\":74362},{\"question\":\"question3\",\"value\":\"right\",\"time\":85342},{\"question\":\"question4\",\"value\":\"right\",\"time\":34303},{\"question\":\"question5\",\"value\":\"right\",\"time\":51138},{\"question\":\"question6\",\"value\":\"1\",\"time\":36255}],\n",
    "[{\"question\":\"question1\",\"value\":\"right\",\"time\":37757},{\"question\":\"question2\",\"value\":\"right\",\"time\":91281},{\"question\":\"question3\",\"value\":\"2\",\"time\":138280},{\"question\":\"question4\",\"value\":\"right\",\"time\":83460},{\"question\":\"question5\",\"value\":\"right\",\"time\":30957},{\"question\":\"question6\",\"value\":\"right\",\"time\":66768}],\n",
    "[{\"question\":\"question1\",\"value\":\"right\",\"time\":78153},{\"question\":\"question2\",\"value\":\"right\",\"time\":30198},{\"question\":\"question3\",\"value\":\"4\",\"time\":18295},{\"question\":\"question4\",\"value\":\"right\",\"time\":15029},{\"question\":\"question5\",\"value\":\"4\",\"time\":6432},{\"question\":\"question6\",\"value\":\"1\",\"time\":3174}],\n",
    "]\n",
    "index3= [\n",
    "[{\"question\":\"question1\",\"value\":\"right\",\"time\":3264},{\"question\":\"question2\",\"value\":\"right\",\"time\":73061},{\"question\":\"question3\",\"value\":\"right\",\"time\":50554},{\"question\":\"question4\",\"value\":\"right\",\"time\":62534},{\"question\":\"question5\",\"value\":\"right\",\"time\":44428},{\"question\":\"question6\",\"value\":\"right\",\"time\":19798}],\n",
    "[{\"question\":\"question1\",\"value\":\"right\",\"time\":7747},{\"question\":\"question2\",\"value\":\"1\",\"time\":1870},{\"question\":\"question3\",\"value\":\"right\",\"time\":2660},{\"question\":\"question4\",\"value\":\"2\",\"time\":1700},{\"question\":\"question5\",\"value\":\"1\",\"time\":1995},{\"question\":\"question6\",\"value\":\"1\",\"time\":3639}],\n",
    "[{\"question\":\"question1\",\"value\":\"right\",\"time\":43176},{\"question\":\"question2\",\"value\":\"1\",\"time\":110041},{\"question\":\"question3\",\"value\":\"right\",\"time\":296005},{\"question\":\"question4\",\"value\":\"right\",\"time\":33012},{\"question\":\"question5\",\"value\":\"right\",\"time\":58802},{\"question\":\"question6\",\"value\":\"right\",\"time\":87351}],\n",
    "[{\"question\":\"question1\",\"value\":\"right\",\"time\":43287},{\"question\":\"question2\",\"value\":\"right\",\"time\":185062},{\"question\":\"question3\",\"value\":\"right\",\"time\":178702},{\"question\":\"question4\",\"value\":\"2\",\"time\":135891},{\"question\":\"question5\",\"value\":\"right\",\"time\":40183},{\"question\":\"question6\",\"value\":\"4\",\"time\":30076}],\n",
    "[{\"question\":\"question1\",\"value\":\"right\",\"time\":20126},{\"question\":\"question2\",\"value\":\"1\",\"time\":43894},{\"question\":\"question3\",\"value\":\"4\",\"time\":67509},{\"question\":\"question4\",\"value\":\"2\",\"time\":96688},{\"question\":\"question5\",\"value\":\"right\",\"time\":47053},{\"question\":\"question6\",\"value\":\"4\",\"time\":53604}],\n",
    "[{\"question\":\"question1\",\"value\":\"right\",\"time\":11031},{\"question\":\"question2\",\"value\":\"right\",\"time\":58213},{\"question\":\"question3\",\"value\":\"right\",\"time\":56133},{\"question\":\"question4\",\"value\":\"right\",\"time\":32069},{\"question\":\"question5\",\"value\":\"4\",\"time\":51495},{\"question\":\"question6\",\"value\":\"1\",\"time\":14199}],\n",
    "[{\"question\":\"question1\",\"value\":\"right\",\"time\":16983},{\"question\":\"question2\",\"value\":\"right\",\"time\":54323},{\"question\":\"question3\",\"value\":\"right\",\"time\":90160},{\"question\":\"question4\",\"value\":\"right\",\"time\":93837},{\"question\":\"question5\",\"value\":\"2\",\"time\":76045},{\"question\":\"question6\",\"value\":\"right\",\"time\":53384}],\n",
    "[{\"question\":\"question1\",\"value\":\"right\",\"time\":18127},{\"question\":\"question2\",\"value\":\"right\",\"time\":82550},{\"question\":\"question3\",\"value\":\"4\",\"time\":20098},{\"question\":\"question4\",\"value\":\"right\",\"time\":41156},{\"question\":\"question5\",\"value\":\"2\",\"time\":124606},{\"question\":\"question6\",\"value\":\"1\",\"time\":91194}]\n",
    "]"
   ]
  },
  {
   "cell_type": "code",
   "execution_count": 2,
   "metadata": {
    "collapsed": true
   },
   "outputs": [],
   "source": [
    "%matplotlib inline\n",
    "import matplotlib.pyplot as plt\n",
    "import numpy as np\n",
    "from matplotlib.font_manager import FontProperties"
   ]
  },
  {
   "cell_type": "code",
   "execution_count": 3,
   "metadata": {
    "collapsed": true
   },
   "outputs": [],
   "source": [
    "def timenodesforQn(file1,n):\n",
    "    timelst = []\n",
    "    for i in range(len(file1)):\n",
    "        timelst.append(file1[i][n-1][\"time\"]/1000)\n",
    "    return timelst"
   ]
  },
  {
   "cell_type": "code",
   "execution_count": 4,
   "metadata": {
    "collapsed": false
   },
   "outputs": [],
   "source": [
    "def timenodestotal(file1):\n",
    "    timenodelst = []\n",
    "    lst = [1,2,3,4,5,6]\n",
    "    for i in range((len(lst))):\n",
    "        timenodelst.append(timenodesforQn(file1,lst[i]))\n",
    "    return timenodelst"
   ]
  },
  {
   "cell_type": "code",
   "execution_count": 5,
   "metadata": {
    "collapsed": false
   },
   "outputs": [],
   "source": [
    "def drawscatter(index1, index2, index3):\n",
    "    N = 6\n",
    "    ind = np.arange(N)\n",
    "    width = 0.25\n",
    "    x1 = ['Q1', 'Q2', 'Q3', 'Q4', 'Q5', 'Q6']\n",
    "    y1 = timenodestotal(index1)\n",
    "    y2 = timenodestotal(index2)\n",
    "    y3 = timenodestotal(index3)\n",
    "    print()\n",
    "    plt.figure()\n",
    "    plt.boxplot(y1)\n",
    "    plt.show()"
   ]
  },
  {
   "cell_type": "code",
   "execution_count": 6,
   "metadata": {
    "collapsed": false
   },
   "outputs": [
    {
     "name": "stdout",
     "output_type": "stream",
     "text": [
      "\n"
     ]
    },
    {
     "data": {
      "image/png": "[encoded data removed]",
      "text/plain": [
       "<matplotlib.figure.Figure at 0x264ffd6c4a8>"
      ]
     },
     "metadata": {},
     "output_type": "display_data"
    }
   ],
   "source": [
    "drawscatter(index1,index2,index3)"
   ]
  },
  {
   "cell_type": "code",
   "execution_count": 7,
   "metadata": {
    "collapsed": false
   },
   "outputs": [],
   "source": [
    "#The average time consuming should be at least 5 seconds.\n",
    "def deleteoutlier(htmlfile):\n",
    "    dellist = []\n",
    "    for i in range(len(htmlfile)):\n",
    "        count = 0\n",
    "        timeconsume = 0\n",
    "        for j in range(len(htmlfile[i])):\n",
    "            count += 1\n",
    "            timeconsume += htmlfile[i][j][\"time\"]/1000\n",
    "        averagetime = timeconsume/count\n",
    "        if timeconsume/count < 5:\n",
    "            dellist.append(i)\n",
    "    dellist.sort(reverse = True)\n",
    "    for m in dellist:\n",
    "        del htmlfile[m]\n",
    "    return htmlfile"
   ]
  },
  {
   "cell_type": "code",
   "execution_count": 8,
   "metadata": {
    "collapsed": false
   },
   "outputs": [],
   "source": [
    "index1 = deleteoutlier(index1)\n",
    "index2 = deleteoutlier(index2)\n",
    "index3 = deleteoutlier(index3)"
   ]
  },
  {
   "cell_type": "code",
   "execution_count": 9,
   "metadata": {
    "collapsed": false
   },
   "outputs": [],
   "source": [
    "def averagetimeforQn(htmlfile,n):\n",
    "    tempsum = 0\n",
    "    count = 0\n",
    "    for i in range(len(htmlfile)):\n",
    "        fileQn = htmlfile[i][n-1][\"time\"]\n",
    "        tempsum += (fileQn/1000)\n",
    "        count += 1\n",
    "    averageTime = tempsum/count\n",
    "    return averageTime\n",
    " "
   ]
  },
  {
   "cell_type": "code",
   "execution_count": 10,
   "metadata": {
    "collapsed": true
   },
   "outputs": [],
   "source": [
    "def timeforfile(htmlfile):\n",
    "    averagetimelst = []\n",
    "    lst = [1,2,3,4,5,6]\n",
    "    for i in range((len(lst))):\n",
    "        averagetimelst.append(averagetimeforQn(htmlfile,lst[i]))\n",
    "    return averagetimelst"
   ]
  },
  {
   "cell_type": "code",
   "execution_count": 11,
   "metadata": {
    "collapsed": false
   },
   "outputs": [],
   "source": [
    "def drawtimeplot():\n",
    "    index1time = timeforfile(index1)\n",
    "    index2time = timeforfile(index2)\n",
    "    index3time = timeforfile(index3)\n",
    "    N = 6\n",
    "    ind = np.arange(N)\n",
    "    width = 0.25\n",
    "    fig, ax = plt.subplots()\n",
    "    rects1 = ax.bar(ind, index1time, width, color='r')\n",
    "    rects2 = ax.bar(ind + width, index2time, width, color='y')\n",
    "    rects3 = ax.bar(ind + width*2, index3time, width, color='b')\n",
    "    ax.set_ylabel('Time spend')\n",
    "    ax.set_title('Average Time for Questions')\n",
    "    ax.set_xticks(ind + width + width/2)\n",
    "    ax.set_xticklabels(('Q1', 'Q2', 'Q3', 'Q4', 'Q5', 'Q6'))\n",
    "    fontP = FontProperties()\n",
    "    fontP.set_size('small')\n",
    "    ax.legend((rects1[0], rects2[0], rects3[0]), ('No Interactive', 'Some Interaction', 'High Interactive'), prop = fontP)\n",
    "    plt.show()"
   ]
  },
  {
   "cell_type": "code",
   "execution_count": 12,
   "metadata": {
    "collapsed": false
   },
   "outputs": [
    {
     "data": {
      "image/png": "[encoded data removed]",
      "text/plain": [
       "<matplotlib.figure.Figure at 0x264811f3e48>"
      ]
     },
     "metadata": {},
     "output_type": "display_data"
    }
   ],
   "source": [
    "drawtimeplot()"
   ]
  },
  {
   "cell_type": "code",
   "execution_count": 13,
   "metadata": {
    "collapsed": false
   },
   "outputs": [],
   "source": [
    "def averageAccuracyRate(htmlfile,n):\n",
    "    ratelst = []\n",
    "    rightCount = 0\n",
    "    totalCount = 0\n",
    "    skipCount = 0\n",
    "    for i in range(len(htmlfile)):\n",
    "        fileQnValue = htmlfile[i][n-1][\"value\"]\n",
    "        totalCount += 1\n",
    "        if fileQnValue == \"right\":\n",
    "            rightCount += 1\n",
    "        elif fileQnValue == \"4\":\n",
    "            skipCount += 1       \n",
    "    accuracyRate = rightCount/totalCount\n",
    "    skipRate = skipCount/totalCount\n",
    "    ratelst.append(accuracyRate)\n",
    "    ratelst.append(skipRate)\n",
    "    return ratelst\n",
    "    "
   ]
  },
  {
   "cell_type": "code",
   "execution_count": null,
   "metadata": {
    "collapsed": false
   },
   "outputs": [],
   "source": []
  },
  {
   "cell_type": "code",
   "execution_count": 14,
   "metadata": {
    "collapsed": true
   },
   "outputs": [],
   "source": [
    "def accuracyforfile(htmlfile):\n",
    "    accuracylst = []\n",
    "    lst = [1,2,3,4,5,6]\n",
    "    for i in range((len(lst))):\n",
    "        returnrate = averageAccuracyRate(htmlfile,lst[i])\n",
    "        accuracyrate = returnrate[0]\n",
    "        accuracylst.append(accuracyrate)  \n",
    "    return accuracylst\n",
    "\n",
    "    "
   ]
  },
  {
   "cell_type": "code",
   "execution_count": 20,
   "metadata": {
    "collapsed": true
   },
   "outputs": [],
   "source": [
    "def skiprateforfile(htmlfile):\n",
    "    skipratelst =[]\n",
    "    lst = [1,2,3,4,5,6]\n",
    "    for i in range((len(lst))):\n",
    "        returnrate = averageAccuracyRate(htmlfile,lst[i])\n",
    "        skiprate = returnrate[1]\n",
    "        skipratelst.append(skiprate)  \n",
    "    return skipratelst"
   ]
  },
  {
   "cell_type": "code",
   "execution_count": 21,
   "metadata": {
    "collapsed": true
   },
   "outputs": [],
   "source": [
    "def drawaccuracyrateplot():\n",
    "    index1rate = accuracyforfile(index1)\n",
    "    index2rate = accuracyforfile(index2)\n",
    "    index3rate = accuracyforfile(index3)\n",
    "    N = 6\n",
    "    ind = np.arange(N)\n",
    "    width = 0.25\n",
    "    fig, ax = plt.subplots()\n",
    "    rects1 = ax.bar(ind, index1rate, width, color='r')\n",
    "    rects2 = ax.bar(ind + width, index2rate, width, color='y')\n",
    "    rects3 = ax.bar(ind + width*2, index3rate, width, color='b')\n",
    "    ax.set_ylabel('Accuracy')\n",
    "    ax.set_title('Accuracy Rate for Questions')\n",
    "    ax.set_xticks(ind + width + width/2)\n",
    "    ax.set_xticklabels(('Q1', 'Q2', 'Q3', 'Q4','Q5', 'Q6'))\n",
    "    fontP = FontProperties()\n",
    "    fontP.set_size('small')\n",
    "    ax.legend((rects1[0], rects2[0], rects3[0]), ('No Interactive', 'Some Interaction', 'High Interactive'), prop = fontP, bbox_to_anchor=(1.2, 1.05))\n",
    "    plt.show()"
   ]
  },
  {
   "cell_type": "code",
   "execution_count": 22,
   "metadata": {
    "collapsed": false
   },
   "outputs": [
    {
     "data": {
      "image/png": "[encoded data removed]",
      "text/plain": [
       "<matplotlib.figure.Figure at 0x2648134c4a8>"
      ]
     },
     "metadata": {},
     "output_type": "display_data"
    }
   ],
   "source": [
    "drawaccuracyrateplot()"
   ]
  },
  {
   "cell_type": "code",
   "execution_count": 23,
   "metadata": {
    "collapsed": true
   },
   "outputs": [],
   "source": [
    "def drawskiprateplot():\n",
    "    index1rate = skiprateforfile(index1)\n",
    "    index2rate = skiprateforfile(index2)\n",
    "    index3rate = skiprateforfile(index3)\n",
    "    N = 6\n",
    "    ind = np.arange(N)\n",
    "    width = 0.25\n",
    "    fig, ax = plt.subplots()\n",
    "    rects1 = ax.bar(ind, index1rate, width, color='r')\n",
    "    rects2 = ax.bar(ind + width, index2rate, width, color='y')\n",
    "    rects3 = ax.bar(ind + width*2, index3rate, width, color='b')\n",
    "    ax.set_ylabel('Skip Rate')\n",
    "    ax.set_title('Skip Rate for Questions')\n",
    "    ax.set_xticks(ind + width + width/2)\n",
    "    ax.set_xticklabels(('Q1', 'Q2', 'Q3', 'Q4','Q5', 'Q6'))\n",
    "    fontP = FontProperties()\n",
    "    fontP.set_size('small')\n",
    "    ax.legend((rects1[0], rects2[0], rects3[0]), ('No Interactive', 'Some Interaction', 'High Interactive'), prop = fontP, bbox_to_anchor=(1.2, 1.05))\n",
    "    plt.show()"
   ]
  },
  {
   "cell_type": "code",
   "execution_count": 24,
   "metadata": {
    "collapsed": false
   },
   "outputs": [
    {
     "data": {
      "image/png": "[encoded data removed]",
      "text/plain": [
       "<matplotlib.figure.Figure at 0x264ffdc7048>"
      ]
     },
     "metadata": {},
     "output_type": "display_data"
    }
   ],
   "source": [
    "drawskiprateplot()"
   ]
  },
  {
   "cell_type": "code",
   "execution_count": null,
   "metadata": {
    "collapsed": true
   },
   "outputs": [],
   "source": []
  }
 ],
 "metadata": {
  "kernelspec": {
   "display_name": "Python [Root]",
   "language": "python",
   "name": "Python [Root]"
  },
  "language_info": {
   "codemirror_mode": {
    "name": "ipython",
    "version": 3
   },
   "file_extension": ".py",
   "mimetype": "text/x-python",
   "name": "python",
   "nbconvert_exporter": "python",
   "pygments_lexer": "ipython3",
   "version": "3.5.2"
  }
 },
 "nbformat": 4,
 "nbformat_minor": 0
}
